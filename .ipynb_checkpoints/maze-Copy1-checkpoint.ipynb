{
 "cells": [
  {
   "cell_type": "markdown",
   "id": "55d7d5d8",
   "metadata": {
    "toc": true
   },
   "source": [
    "<h1>Table of Contents<span class=\"tocSkip\"></span></h1>\n",
    "<div class=\"toc\"><ul class=\"toc-item\"></ul></div>"
   ]
  },
  {
   "cell_type": "code",
   "execution_count": 8,
   "id": "47972b43",
   "metadata": {},
   "outputs": [],
   "source": [
    "import sys"
   ]
  },
  {
   "cell_type": "code",
   "execution_count": 9,
   "id": "4a8a48fd",
   "metadata": {},
   "outputs": [],
   "source": [
    "class Node():\n",
    "    def __init__(self, state, parent, action):\n",
    "        self.state = state\n",
    "        self.parent = parent\n",
    "        self.action = action"
   ]
  },
  {
   "cell_type": "code",
   "execution_count": 10,
   "id": "5cede30a",
   "metadata": {},
   "outputs": [],
   "source": [
    "class StackFrontier():\n",
    "    def __init__(self):\n",
    "        self.frontier = []\n",
    "\n",
    "    def add(self, node):\n",
    "        self.frontier.append(node)\n",
    "\n",
    "    def contains_state(self, state):\n",
    "        return any(node.state == state for node in self.frontier)\n",
    "\n",
    "    def empty(self):\n",
    "        return len(self.frontier) == 0\n",
    "    # Define the function that removes a node from the frontier and returns it.\n",
    "    def remove(self):\n",
    "        # Terminate the search if the frontier is empty, because this means that there is no solution.\n",
    "        if self.empty():\n",
    "            raise Exception(\"empty frontier\")\n",
    "        else:\n",
    "            node = self.frontier[-1]\n",
    "            self.frontier = self.frontier[:-1]\n",
    "            return node"
   ]
  },
  {
   "cell_type": "code",
   "execution_count": 11,
   "id": "31e6a3d2",
   "metadata": {},
   "outputs": [],
   "source": [
    "class QueueFrontier(StackFrontier):\n",
    "\n",
    "    def remove(self):\n",
    "        if self.empty():\n",
    "            raise Exception(\"empty frontier\")\n",
    "        else:\n",
    "            node = self.frontier[0]\n",
    "            self.frontier = self.frontier[1:]\n",
    "            return node"
   ]
  },
  {
   "cell_type": "code",
   "execution_count": 12,
   "id": "9e103369",
   "metadata": {},
   "outputs": [],
   "source": [
    "class Maze():\n",
    "\n",
    "    def __init__(self, filename):\n",
    "\n",
    "        # Read file and set height and width of maze\n",
    "        with open(filename) as f:\n",
    "            contents = f.read()\n",
    "\n",
    "        # Validate start and goal\n",
    "        if contents.count(\"A\") != 1:\n",
    "            raise Exception(\"maze must have exactly one start point\")\n",
    "        if contents.count(\"B\") != 1:\n",
    "            raise Exception(\"maze must have exactly one goal\")\n",
    "\n",
    "        # Determine height and width of maze\n",
    "        contents = contents.splitlines()\n",
    "        self.height = len(contents)\n",
    "        self.width = max(len(line) for line in contents)\n",
    "\n",
    "        # Keep track of walls\n",
    "        self.walls = []\n",
    "        for i in range(self.height):\n",
    "            row = []\n",
    "            for j in range(self.width):\n",
    "                try:\n",
    "                    if contents[i][j] == \"A\":\n",
    "                        self.start = (i, j)\n",
    "                        row.append(False)\n",
    "                    elif contents[i][j] == \"B\":\n",
    "                        self.goal = (i, j)\n",
    "                        row.append(False)\n",
    "                    elif contents[i][j] == \" \":\n",
    "                        row.append(False)\n",
    "                    else:\n",
    "                        row.append(True)\n",
    "                except IndexError:\n",
    "                    row.append(False)\n",
    "            self.walls.append(row)\n",
    "\n",
    "        self.solution = None\n",
    "\n",
    "\n",
    "    def print(self):\n",
    "        solution = self.solution[1] if self.solution is not None else None\n",
    "        print()\n",
    "        for i, row in enumerate(self.walls):\n",
    "            for j, col in enumerate(row):\n",
    "                if col:\n",
    "                    print(\"█\", end=\"\")\n",
    "                elif (i, j) == self.start:\n",
    "                    print(\"A\", end=\"\")\n",
    "                elif (i, j) == self.goal:\n",
    "                    print(\"B\", end=\"\")\n",
    "                elif solution is not None and (i, j) in solution:\n",
    "                    print(\"*\", end=\"\")\n",
    "                else:\n",
    "                    print(\" \", end=\"\")\n",
    "            print()\n",
    "        print()\n",
    "\n",
    "\n",
    "    def neighbors(self, state):\n",
    "        row, col = state\n",
    "        candidates = [\n",
    "            (\"up\", (row - 1, col)),\n",
    "            (\"down\", (row + 1, col)),\n",
    "            (\"left\", (row, col - 1)),\n",
    "            (\"right\", (row, col + 1))\n",
    "        ]\n",
    "\n",
    "        result = []\n",
    "        for action, (r, c) in candidates:\n",
    "            if 0 <= r < self.height and 0 <= c < self.width and not self.walls[r][c]:\n",
    "                result.append((action, (r, c)))\n",
    "        return result\n",
    "\n",
    "\n",
    "    def solve(self):\n",
    "        \"\"\"Finds a solution to maze, if one exists.\"\"\"\n",
    "\n",
    "        # Keep track of number of states explored\n",
    "        self.num_explored = 0\n",
    "\n",
    "        # Initialize frontier to just the starting position\n",
    "        start = Node(state=self.start, parent=None, action=None)\n",
    "        frontier = StackFrontier()\n",
    "        frontier.add(start)\n",
    "\n",
    "        # Initialize an empty explored set\n",
    "        self.explored = set()\n",
    "\n",
    "        # Keep looping until solution found\n",
    "        while True:\n",
    "\n",
    "            # If nothing left in frontier, then no path\n",
    "            if frontier.empty():\n",
    "                raise Exception(\"no solution\")\n",
    "\n",
    "            # Choose a node from the frontier\n",
    "            node = frontier.remove()\n",
    "            self.num_explored += 1\n",
    "\n",
    "            # If node is the goal, then we have a solution\n",
    "            if node.state == self.goal:\n",
    "                actions = []\n",
    "                cells = []\n",
    "                while node.parent is not None:\n",
    "                    actions.append(node.action)\n",
    "                    cells.append(node.state)\n",
    "                    node = node.parent\n",
    "                actions.reverse()\n",
    "                cells.reverse()\n",
    "                self.solution = (actions, cells)\n",
    "                return\n",
    "\n",
    "            # Mark node as explored\n",
    "            self.explored.add(node.state)\n",
    "\n",
    "            # Add neighbors to frontier\n",
    "            for action, state in self.neighbors(node.state):\n",
    "                if not frontier.contains_state(state) and state not in self.explored:\n",
    "                    child = Node(state=state, parent=node, action=action)\n",
    "                    frontier.add(child)\n",
    "\n",
    "\n",
    "    def output_image(self, filename, show_solution=True, show_explored=False):\n",
    "        from PIL import Image, ImageDraw\n",
    "        cell_size = 50\n",
    "        cell_border = 2\n",
    "\n",
    "        # Create a blank canvas\n",
    "        img = Image.new(\n",
    "            \"RGBA\",\n",
    "            (self.width * cell_size, self.height * cell_size),\n",
    "            \"black\"\n",
    "        )\n",
    "        draw = ImageDraw.Draw(img)\n",
    "\n",
    "        solution = self.solution[1] if self.solution is not None else None\n",
    "        for i, row in enumerate(self.walls):\n",
    "            for j, col in enumerate(row):\n",
    "\n",
    "                # Walls\n",
    "                if col:\n",
    "                    fill = (40, 40, 40)\n",
    "\n",
    "                # Start\n",
    "                elif (i, j) == self.start:\n",
    "                    fill = (255, 0, 0)\n",
    "\n",
    "                # Goal\n",
    "                elif (i, j) == self.goal:\n",
    "                    fill = (0, 171, 28)\n",
    "\n",
    "                # Solution\n",
    "                elif solution is not None and show_solution and (i, j) in solution:\n",
    "                    fill = (220, 235, 113)\n",
    "\n",
    "                # Explored\n",
    "                elif solution is not None and show_explored and (i, j) in self.explored:\n",
    "                    fill = (212, 97, 85)\n",
    "\n",
    "                # Empty cell\n",
    "                else:\n",
    "                    fill = (237, 240, 252)\n",
    "\n",
    "                # Draw cell\n",
    "                draw.rectangle(\n",
    "                    ([(j * cell_size + cell_border, i * cell_size + cell_border),\n",
    "                      ((j + 1) * cell_size - cell_border, (i + 1) * cell_size - cell_border)]),\n",
    "                    fill=fill\n",
    "                )\n",
    "\n",
    "        img.save(filename)"
   ]
  },
  {
   "cell_type": "code",
   "execution_count": 13,
   "id": "29dd4a7f",
   "metadata": {},
   "outputs": [],
   "source": [
    "# if len(sys.argv) != 2:\n",
    "#     sys.exit(\"Usage: python maze.py maze.txt\")"
   ]
  },
  {
   "cell_type": "code",
   "execution_count": 14,
   "id": "4013e009",
   "metadata": {},
   "outputs": [
    {
     "name": "stdout",
     "output_type": "stream",
     "text": [
      "Maze:\n",
      "\n",
      "█████B█\n",
      "█████ █\n",
      "████  █\n",
      "████ ██\n",
      "     ██\n",
      "A██████\n",
      "\n",
      "Solving...\n",
      "States Explored: 11\n",
      "Solution:\n",
      "\n",
      "█████B█\n",
      "█████*█\n",
      "████**█\n",
      "████*██\n",
      "*****██\n",
      "A██████\n",
      "\n"
     ]
    }
   ],
   "source": [
    "# Creating the object m does the following:\n",
    "# opens the maze text file\n",
    "# checks if there is only one start 'A' amd goal 'B'\n",
    "m = Maze('maze1.txt')\n",
    "print(\"Maze:\")\n",
    "m.print()\n",
    "print(\"Solving...\")\n",
    "m.solve()\n",
    "print(\"States Explored:\", m.num_explored)\n",
    "print(\"Solution:\")\n",
    "m.print()\n",
    "m.output_image(\"maze.png\", show_explored=True)"
   ]
  },
  {
   "cell_type": "code",
   "execution_count": 10,
   "id": "a2e7813f",
   "metadata": {},
   "outputs": [],
   "source": [
    "sys.argv?"
   ]
  },
  {
   "cell_type": "code",
   "execution_count": 7,
   "id": "732f42ed",
   "metadata": {},
   "outputs": [],
   "source": [
    "sys.exit?"
   ]
  },
  {
   "cell_type": "code",
   "execution_count": 15,
   "id": "c44a832d",
   "metadata": {},
   "outputs": [
    {
     "data": {
      "text/plain": [
       "(5, 0)"
      ]
     },
     "execution_count": 15,
     "metadata": {},
     "output_type": "execute_result"
    }
   ],
   "source": [
    "m.start"
   ]
  },
  {
   "cell_type": "code",
   "execution_count": 16,
   "id": "a264b688",
   "metadata": {},
   "outputs": [
    {
     "data": {
      "text/plain": [
       "(0, 5)"
      ]
     },
     "execution_count": 16,
     "metadata": {},
     "output_type": "execute_result"
    }
   ],
   "source": [
    "m.goal"
   ]
  },
  {
   "cell_type": "code",
   "execution_count": 17,
   "id": "5a1d312b",
   "metadata": {},
   "outputs": [
    {
     "data": {
      "text/plain": [
       "[[True, True, True, True, True, False, True],\n",
       " [True, True, True, True, True, False, True],\n",
       " [True, True, True, True, False, False, True],\n",
       " [True, True, True, True, False, True, True],\n",
       " [False, False, False, False, False, True, True],\n",
       " [False, True, True, True, True, True, True]]"
      ]
     },
     "execution_count": 17,
     "metadata": {},
     "output_type": "execute_result"
    }
   ],
   "source": [
    "m.walls"
   ]
  },
  {
   "cell_type": "code",
   "execution_count": 18,
   "id": "ef6021b6",
   "metadata": {},
   "outputs": [
    {
     "data": {
      "text/plain": [
       "(['up', 'right', 'right', 'right', 'right', 'up', 'up', 'right', 'up', 'up'],\n",
       " [(4, 0),\n",
       "  (4, 1),\n",
       "  (4, 2),\n",
       "  (4, 3),\n",
       "  (4, 4),\n",
       "  (3, 4),\n",
       "  (2, 4),\n",
       "  (2, 5),\n",
       "  (1, 5),\n",
       "  (0, 5)])"
      ]
     },
     "execution_count": 18,
     "metadata": {},
     "output_type": "execute_result"
    }
   ],
   "source": [
    "m.solution"
   ]
  },
  {
   "cell_type": "code",
   "execution_count": null,
   "id": "65067d8a",
   "metadata": {},
   "outputs": [],
   "source": []
  }
 ],
 "metadata": {
  "kernelspec": {
   "display_name": "Python 3 (ipykernel)",
   "language": "python",
   "name": "python3"
  },
  "language_info": {
   "codemirror_mode": {
    "name": "ipython",
    "version": 3
   },
   "file_extension": ".py",
   "mimetype": "text/x-python",
   "name": "python",
   "nbconvert_exporter": "python",
   "pygments_lexer": "ipython3",
   "version": "3.9.12"
  },
  "toc": {
   "base_numbering": 1,
   "nav_menu": {},
   "number_sections": true,
   "sideBar": true,
   "skip_h1_title": false,
   "title_cell": "Table of Contents",
   "title_sidebar": "Contents",
   "toc_cell": true,
   "toc_position": {},
   "toc_section_display": true,
   "toc_window_display": true
  }
 },
 "nbformat": 4,
 "nbformat_minor": 5
}
